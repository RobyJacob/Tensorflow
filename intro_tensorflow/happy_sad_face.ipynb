{
 "cells": [
  {
   "cell_type": "markdown",
   "metadata": {
    "colab_type": "text",
    "id": "UncprnB0ymAE"
   },
   "source": [
    "Below is code with a link to a happy or sad dataset which contains 80 images, 40 happy and 40 sad. \n",
    "Create a convolutional neural network that trains to 100% accuracy on these images,  which cancels training upon hitting training accuracy of >.999\n",
    "\n",
    "Hint -- it will work best with 3 convolutional layers."
   ]
  },
  {
   "cell_type": "code",
   "execution_count": 20,
   "metadata": {},
   "outputs": [],
   "source": [
    "import tensorflow as tf\n",
    "import os\n",
    "import zipfile\n",
    "from os import path, getcwd, chdir\n",
    "\n",
    "# DO NOT CHANGE THE LINE BELOW. If you are developing in a local\n",
    "# environment, then grab happy-or-sad.zip from the Coursera Jupyter Notebook\n",
    "# and place it inside a local folder and edit the path to that location\n",
    "path = f\"{getcwd()}/../tmp2/happy-or-sad.zip\"\n",
    "\n",
    "zip_ref = zipfile.ZipFile(path, 'r')\n",
    "zip_ref.extractall(\"/tmp/h-or-s\")\n",
    "zip_ref.close()"
   ]
  },
  {
   "cell_type": "code",
   "execution_count": 21,
   "metadata": {},
   "outputs": [],
   "source": [
    "# GRADED FUNCTION: train_happy_sad_model\n",
    "def train_happy_sad_model():\n",
    "    # Please write your code only where you are indicated.\n",
    "    # please do not remove # model fitting inline comments.\n",
    "\n",
    "    DESIRED_ACCURACY = 0.999\n",
    "    training_dir = \"/tmp/h-or-s/\"\n",
    "\n",
    "    class myCallback(tf.keras.callbacks.Callback):\n",
    "        def on_epoch_end(self, epochs, logs={}):\n",
    "            if logs.get(\"acc\") >= DESIRED_ACCURACY:\n",
    "                print(\"\\nReached 99.9% accuracy so cancelling training!\")\n",
    "                self.model.stop_training = True\n",
    "\n",
    "    callbacks = myCallback()\n",
    "    \n",
    "    # This Code Block should Define and Compile the Model. Please assume the images are 150 X 150 in your implementation.\n",
    "    model = tf.keras.models.Sequential([\n",
    "        tf.keras.layers.Conv2D(16, (3,3), activation=\"relu\", input_shape=(150, 150, 4)),\n",
    "        tf.keras.layers.MaxPooling2D((2,2)),\n",
    "        tf.keras.layers.Conv2D(32, (3,3), activation=\"relu\"),\n",
    "        tf.keras.layers.MaxPooling2D((2,2)),\n",
    "        tf.keras.layers.Conv2D(64, (3,3), activation=\"relu\"),\n",
    "        tf.keras.layers.MaxPooling2D((2,2)),\n",
    "        tf.keras.layers.Flatten(),\n",
    "        tf.keras.layers.Dense(512, activation=\"relu\"),\n",
    "        tf.keras.layers.Dense(1, activation=\"sigmoid\")\n",
    "    ])\n",
    "\n",
    "    from tensorflow.keras.optimizers import RMSprop\n",
    "\n",
    "    model.compile(optimizer=RMSprop(lr=0.01), loss=\"binary_crossentropy\", metrics=[\"accuracy\"])\n",
    "        \n",
    "\n",
    "    # This code block should create an instance of an ImageDataGenerator called train_datagen \n",
    "    # And a train_generator by calling train_datagen.flow_from_directory\n",
    "\n",
    "    from tensorflow.keras.preprocessing.image import ImageDataGenerator\n",
    "\n",
    "    train_datagen = ImageDataGenerator(rescale=1/255.)\n",
    "\n",
    "    # Please use a target_size of 150 X 150.\n",
    "    train_generator = train_datagen.flow_from_directory(\n",
    "        training_dir,\n",
    "        target_size=(150,150),\n",
    "        batch_size=16,\n",
    "        class_mode=\"binary\",\n",
    "        color_mode=\"rgba\"\n",
    "    )\n",
    "    # Expected output: 'Found 80 images belonging to 2 classes'\n",
    "\n",
    "    # This code block should call model.fit_generator and train for\n",
    "    # a number of epochs.\n",
    "    # model fitting\n",
    "    history = model.fit_generator(\n",
    "        train_generator,\n",
    "        epochs=20,\n",
    "        callbacks=[callbacks]\n",
    "    )\n",
    "    # model fitting\n",
    "    return history.history['acc'][-1]"
   ]
  },
  {
   "cell_type": "code",
   "execution_count": 22,
   "metadata": {},
   "outputs": [
    {
     "name": "stdout",
     "output_type": "stream",
     "text": [
      "Found 80 images belonging to 2 classes.\n",
      "Epoch 1/20\n",
      "5/5 [==============================] - 3s 604ms/step - loss: 309.1633 - acc: 0.4250\n",
      "Epoch 2/20\n",
      "5/5 [==============================] - 1s 103ms/step - loss: 0.7720 - acc: 0.5000\n",
      "Epoch 3/20\n",
      "5/5 [==============================] - 1s 119ms/step - loss: 0.6571 - acc: 0.7000\n",
      "Epoch 4/20\n",
      "5/5 [==============================] - 1s 118ms/step - loss: 0.4740 - acc: 0.8375\n",
      "Epoch 5/20\n",
      "5/5 [==============================] - 1s 120ms/step - loss: 0.3187 - acc: 0.8875\n",
      "Epoch 6/20\n",
      "5/5 [==============================] - 1s 102ms/step - loss: 0.2479 - acc: 0.8750\n",
      "Epoch 7/20\n",
      "5/5 [==============================] - 1s 117ms/step - loss: 0.2115 - acc: 0.9125\n",
      "Epoch 8/20\n",
      "5/5 [==============================] - 1s 119ms/step - loss: 0.1598 - acc: 0.9250\n",
      "Epoch 9/20\n",
      "5/5 [==============================] - 1s 119ms/step - loss: 0.2095 - acc: 0.9250 0s - loss: 0.1436 - acc: 0.97\n",
      "Epoch 10/20\n",
      "5/5 [==============================] - 1s 121ms/step - loss: 0.0644 - acc: 0.9875\n",
      "Epoch 11/20\n",
      "5/5 [==============================] - 0s 99ms/step - loss: 0.1368 - acc: 0.9250\n",
      "Epoch 12/20\n",
      "5/5 [==============================] - 1s 119ms/step - loss: 0.8273 - acc: 0.7750\n",
      "Epoch 13/20\n",
      "5/5 [==============================] - 1s 102ms/step - loss: 1.4989 - acc: 0.6875\n",
      "Epoch 14/20\n",
      "5/5 [==============================] - 1s 104ms/step - loss: 0.7382 - acc: 0.7250\n",
      "Epoch 15/20\n",
      "5/5 [==============================] - 1s 136ms/step - loss: 26.3485 - acc: 0.7000\n",
      "Epoch 16/20\n",
      "5/5 [==============================] - 1s 103ms/step - loss: 0.4141 - acc: 0.9000\n",
      "Epoch 17/20\n",
      "5/5 [==============================] - 1s 117ms/step - loss: 0.1002 - acc: 0.9875\n",
      "Epoch 18/20\n",
      "4/5 [=======================>......] - ETA: 0s - loss: 0.0384 - acc: 1.0000\n",
      "Reached 99.9% accuracy so cancelling training!\n",
      "5/5 [==============================] - 1s 119ms/step - loss: 0.0363 - acc: 1.0000\n"
     ]
    },
    {
     "data": {
      "text/plain": [
       "1.0"
      ]
     },
     "execution_count": 22,
     "metadata": {},
     "output_type": "execute_result"
    }
   ],
   "source": [
    "# The Expected output: \"Reached 99.9% accuracy so cancelling training!\"\"\n",
    "train_happy_sad_model()"
   ]
  },
  {
   "cell_type": "code",
   "execution_count": 4,
   "metadata": {},
   "outputs": [],
   "source": [
    "# Now click the 'Submit Assignment' button above.\n",
    "# Once that is complete, please run the following two cells to save your work and close the notebook"
   ]
  }
 ],
 "metadata": {
  "coursera": {
   "course_slug": "introduction-tensorflow",
   "graded_item_id": "1kAlw",
   "launcher_item_id": "PNLYD"
  },
  "kernelspec": {
   "display_name": "Python 3",
   "language": "python",
   "name": "python3"
  },
  "language_info": {
   "codemirror_mode": {
    "name": "ipython",
    "version": 3
   },
   "file_extension": ".py",
   "mimetype": "text/x-python",
   "name": "python",
   "nbconvert_exporter": "python",
   "pygments_lexer": "ipython3",
   "version": "3.6.8"
  }
 },
 "nbformat": 4,
 "nbformat_minor": 1
}
